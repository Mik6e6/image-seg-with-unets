{
 "cells": [
  {
   "cell_type": "code",
   "execution_count": 1,
   "id": "average-parliament",
   "metadata": {},
   "outputs": [],
   "source": [
    "# !pip3 install opencv-contrib-python"
   ]
  },
  {
   "cell_type": "code",
   "execution_count": 3,
   "id": "static-medicaid",
   "metadata": {},
   "outputs": [],
   "source": [
    "import os\n",
    "import cv2\n",
    "import numpy \n",
    "import glob\n",
    "import matplotlib.pyplot as plt\n",
    "from skimage import io"
   ]
  },
  {
   "cell_type": "code",
   "execution_count": 12,
   "id": "tired-engine",
   "metadata": {},
   "outputs": [],
   "source": [
    "# https://docs.opencv.org/3.4/d1/dc5/tutorial_background_subtraction.html\n",
    "\n",
    "bgSub = cv2.createBackgroundSubtractorMOG2()\n",
    "predicted = []\n",
    "\n",
    "for file in sorted(os.listdir('data/baseline/pedestrians/input')):\n",
    "    if file.endswith(\".jpg\") or file.endswith(\".png\"):\n",
    "        frame = io.imread(os.path.join('data/baseline/pedestrians/input', file))\n",
    "        gfbfMask = bgSub.apply(frame)\n",
    "        predicted.append(gfbfMask)"
   ]
  },
  {
   "cell_type": "code",
   "execution_count": 23,
   "id": "fourth-heath",
   "metadata": {},
   "outputs": [],
   "source": [
    "gt = []\n",
    "for file in sorted(os.listdir('data/baseline/pedestrians/groundtruth')):\n",
    "    if file.endswith(\".jpg\") or file.endswith(\".png\"):\n",
    "        frame = io.imread(os.path.join('data/baseline/pedestrians/groundtruth', file))\n",
    "        gt.append(frame)\n"
   ]
  },
  {
   "cell_type": "code",
   "execution_count": 14,
   "id": "marked-gothic",
   "metadata": {},
   "outputs": [],
   "source": [
    "# https://towardsdatascience.com/intersection-over-union-iou-calculation-for-evaluating-an-image-segmentation-model-8b22e2e84686\n",
    "\n",
    "\n",
    "def get_iou(predicted,gt):\n",
    "    \n",
    "    contours, hierarchy = cv2.findContours(predicted ,cv2.RETR_TREE,cv2.CHAIN_APPROX_NONE)\n",
    "    contours2, hierarchy2 = cv2.findContours(gt,cv2.RETR_TREE,cv2.CHAIN_APPROX_NONE)\n",
    "    \n",
    "    \n",
    "    stencil = numpy.zeros(predicted.shape).astype(predicted.dtype)\n",
    "    color = [255, 255, 255]\n",
    "    cv2.fillPoly(stencil, contours, color)\n",
    "    \n",
    "    \n",
    "    result2 = cv2.bitwise_and(predicted, stencil)\n",
    "    result1 = cv2.cvtColor(result2, cv2.COLOR_BGR2RGB)\n",
    "\n",
    "\n",
    "    stencil = numpy.zeros(gt.shape).astype(gt.dtype)\n",
    "    color = [255, 255, 255]\n",
    "    cv2.fillPoly(stencil, contours2, color)\n",
    "    result2 = cv2.bitwise_and(gt, stencil)\n",
    "    result2 = cv2.cvtColor(result2, cv2.COLOR_BGR2RGB)\n",
    "\n",
    "    intersection = numpy.logical_and(result1, result2)\n",
    "    union = numpy.logical_or(result1, result2)\n",
    "    iou_score = numpy.sum(intersection) / numpy.sum(union)\n",
    "    \n",
    "    return iou_score\n"
   ]
  },
  {
   "cell_type": "code",
   "execution_count": 15,
   "id": "powered-function",
   "metadata": {},
   "outputs": [],
   "source": [
    "average_iou = []\n",
    "for pr, gt in zip(predicted, gt):\n",
    "        average_iou.append(get_iou(pr, gt))"
   ]
  },
  {
   "cell_type": "code",
   "execution_count": 27,
   "id": "pregnant-cancer",
   "metadata": {},
   "outputs": [
    {
     "name": "stdout",
     "output_type": "stream",
     "text": [
      "Average IOU : 0.37271509087876575\n",
      "Max IOU : 1.0\n"
     ]
    }
   ],
   "source": [
    "print(\"Average IOU :\" , numpy.nanmean(numpy.array(average_iou)))\n",
    "print(\"Max IOU :\" , numpy.nanmax(average_iou))"
   ]
  },
  {
   "cell_type": "code",
   "execution_count": 34,
   "id": "noble-terrace",
   "metadata": {},
   "outputs": [
    {
     "data": {
      "text/plain": [
       "<matplotlib.image.AxesImage at 0x7fd2fdd0aee0>"
      ]
     },
     "execution_count": 34,
     "metadata": {},
     "output_type": "execute_result"
    },
    {
     "data": {
      "image/png": "[encoded data removed]",
      "text/plain": [
       "<Figure size 432x288 with 1 Axes>"
      ]
     },
     "metadata": {
      "needs_background": "light"
     },
     "output_type": "display_data"
    }
   ],
   "source": [
    "plt.imshow(predicted[654])"
   ]
  },
  {
   "cell_type": "code",
   "execution_count": 35,
   "id": "announced-month",
   "metadata": {},
   "outputs": [
    {
     "data": {
      "text/plain": [
       "<matplotlib.image.AxesImage at 0x7fd2fdce7310>"
      ]
     },
     "execution_count": 35,
     "metadata": {},
     "output_type": "execute_result"
    },
    {
     "data": {
      "image/png": "[encoded data removed]",
      "text/plain": [
       "<Figure size 432x288 with 1 Axes>"
      ]
     },
     "metadata": {
      "needs_background": "light"
     },
     "output_type": "display_data"
    }
   ],
   "source": [
    "plt.imshow(gt[654])"
   ]
  },
  {
   "cell_type": "code",
   "execution_count": null,
   "id": "different-swaziland",
   "metadata": {},
   "outputs": [],
   "source": []
  },
  {
   "cell_type": "code",
   "execution_count": null,
   "id": "shared-finish",
   "metadata": {},
   "outputs": [],
   "source": []
  }
 ],
 "metadata": {
  "kernelspec": {
   "display_name": "Python 3",
   "language": "python",
   "name": "python3"
  },
  "language_info": {
   "codemirror_mode": {
    "name": "ipython",
    "version": 3
   },
   "file_extension": ".py",
   "mimetype": "text/x-python",
   "name": "python",
   "nbconvert_exporter": "python",
   "pygments_lexer": "ipython3",
   "version": "3.8.5"
  }
 },
 "nbformat": 4,
 "nbformat_minor": 5
}
